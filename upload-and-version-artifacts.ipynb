{
 "cells": [
  {
   "cell_type": "markdown",
   "metadata": {},
   "source": [
    "# Import Weights & Biases"
   ]
  },
  {
   "cell_type": "code",
   "execution_count": 1,
   "metadata": {},
   "outputs": [],
   "source": [
    "import wandb"
   ]
  },
  {
   "cell_type": "markdown",
   "metadata": {},
   "source": [
    "# Create an artifact\n",
    "(pretend it is the output of a component)"
   ]
  },
  {
   "cell_type": "code",
   "execution_count": 2,
   "metadata": {},
   "outputs": [],
   "source": [
    "with open(\"my_artifact.txt\", \"w+\") as fp:\n",
    "    fp.write(\"This is an example of an artifact\")"
   ]
  },
  {
   "cell_type": "code",
   "execution_count": 3,
   "metadata": {},
   "outputs": [
    {
     "name": "stdout",
     "output_type": "stream",
     "text": [
      "Upload and version artifacts-Copy1.ipynb\r\n",
      "Upload and version artifacts.ipynb\r\n",
      "my_artifact.txt\r\n"
     ]
    }
   ],
   "source": [
    "!ls"
   ]
  },
  {
   "cell_type": "markdown",
   "metadata": {},
   "source": [
    "# Upload to W&B"
   ]
  },
  {
   "cell_type": "code",
   "execution_count": 5,
   "metadata": {},
   "outputs": [
    {
     "name": "stderr",
     "output_type": "stream",
     "text": [
      "\u001b[34m\u001b[1mwandb\u001b[0m: Currently logged in as: \u001b[33mgiacomovianello\u001b[0m (use `wandb login --relogin` to force relogin)\n",
      "\u001b[34m\u001b[1mwandb\u001b[0m: wandb version 0.10.29 is available!  To upgrade, please run:\n",
      "\u001b[34m\u001b[1mwandb\u001b[0m:  $ pip install wandb --upgrade\n"
     ]
    },
    {
     "data": {
      "text/html": [
       "\n",
       "                Tracking run with wandb version 0.10.28<br/>\n",
       "                Syncing run <strong style=\"color:#cdcd00\">dry-terrain-1</strong> to <a href=\"https://wandb.ai\" target=\"_blank\">Weights & Biases</a> <a href=\"https://docs.wandb.com/integrations/jupyter.html\" target=\"_blank\">(Documentation)</a>.<br/>\n",
       "                Project page: <a href=\"https://wandb.ai/giacomovianello/demo_artifact_1\" target=\"_blank\">https://wandb.ai/giacomovianello/demo_artifact_1</a><br/>\n",
       "                Run page: <a href=\"https://wandb.ai/giacomovianello/demo_artifact_1/runs/29j6fnw6\" target=\"_blank\">https://wandb.ai/giacomovianello/demo_artifact_1/runs/29j6fnw6</a><br/>\n",
       "                Run data is saved locally in <code>/Users/instructor/PycharmProjects/nd0821-c2-build-model-workflow/lesson-1-machine-learning-pipelines/demo/wandb/run-20210504_105915-29j6fnw6</code><br/><br/>\n",
       "            "
      ],
      "text/plain": [
       "<IPython.core.display.HTML object>"
      ]
     },
     "metadata": {},
     "output_type": "display_data"
    }
   ],
   "source": [
    "run = wandb.init(project=\"demo_artifact_1\", group=\"experiment_1\")"
   ]
  },
  {
   "cell_type": "code",
   "execution_count": 7,
   "metadata": {},
   "outputs": [],
   "source": [
    "artifact = wandb.Artifact(\n",
    "    name=\"my_artifact.txt\", \n",
    "    type=\"data\", \n",
    "    description=\"This is an example of an artifact\",\n",
    "    metadata={\n",
    "        \"key_1\": \"value_1\"\n",
    "    }\n",
    ")"
   ]
  },
  {
   "cell_type": "code",
   "execution_count": 8,
   "metadata": {},
   "outputs": [
    {
     "data": {
      "text/plain": [
       "<ManifestEntry digest: bStOq42zZ7Ka3e5ArNjTIg==>"
      ]
     },
     "execution_count": 8,
     "metadata": {},
     "output_type": "execute_result"
    }
   ],
   "source": [
    "artifact.add_file(\"my_artifact.txt\")"
   ]
  },
  {
   "cell_type": "code",
   "execution_count": 9,
   "metadata": {},
   "outputs": [
    {
     "data": {
      "text/plain": [
       "<wandb.sdk.wandb_artifacts.Artifact at 0x7fef3bd2a610>"
      ]
     },
     "execution_count": 9,
     "metadata": {},
     "output_type": "execute_result"
    }
   ],
   "source": [
    "run.log_artifact(artifact)"
   ]
  },
  {
   "cell_type": "code",
   "execution_count": 10,
   "metadata": {},
   "outputs": [
    {
     "data": {
      "text/html": [
       "<br/>Waiting for W&B process to finish, PID 3627<br/>Program ended successfully."
      ],
      "text/plain": [
       "<IPython.core.display.HTML object>"
      ]
     },
     "metadata": {},
     "output_type": "display_data"
    },
    {
     "data": {
      "application/vnd.jupyter.widget-view+json": {
       "model_id": "",
       "version_major": 2,
       "version_minor": 0
      },
      "text/plain": [
       "VBox(children=(Label(value=' 0.00MB of 0.00MB uploaded (0.00MB deduped)\\r'), FloatProgress(value=1.0, max=1.0)…"
      ]
     },
     "metadata": {},
     "output_type": "display_data"
    },
    {
     "data": {
      "text/html": [
       "Find user logs for this run at: <code>/Users/instructor/PycharmProjects/nd0821-c2-build-model-workflow/lesson-1-machine-learning-pipelines/demo/wandb/run-20210504_105915-29j6fnw6/logs/debug.log</code>"
      ],
      "text/plain": [
       "<IPython.core.display.HTML object>"
      ]
     },
     "metadata": {},
     "output_type": "display_data"
    },
    {
     "data": {
      "text/html": [
       "Find internal logs for this run at: <code>/Users/instructor/PycharmProjects/nd0821-c2-build-model-workflow/lesson-1-machine-learning-pipelines/demo/wandb/run-20210504_105915-29j6fnw6/logs/debug-internal.log</code>"
      ],
      "text/plain": [
       "<IPython.core.display.HTML object>"
      ]
     },
     "metadata": {},
     "output_type": "display_data"
    },
    {
     "data": {
      "text/html": [
       "Synced 5 W&B file(s), 0 media file(s), 1 artifact file(s) and 0 other file(s)"
      ],
      "text/plain": [
       "<IPython.core.display.HTML object>"
      ]
     },
     "metadata": {},
     "output_type": "display_data"
    },
    {
     "data": {
      "text/html": [
       "\n",
       "                    <br/>Synced <strong style=\"color:#cdcd00\">dry-terrain-1</strong>: <a href=\"https://wandb.ai/giacomovianello/demo_artifact_1/runs/29j6fnw6\" target=\"_blank\">https://wandb.ai/giacomovianello/demo_artifact_1/runs/29j6fnw6</a><br/>\n",
       "                "
      ],
      "text/plain": [
       "<IPython.core.display.HTML object>"
      ]
     },
     "metadata": {},
     "output_type": "display_data"
    }
   ],
   "source": [
    "run.finish()"
   ]
  },
  {
   "cell_type": "markdown",
   "metadata": {},
   "source": [
    "# Generate a new version by changing the artifact"
   ]
  },
  {
   "cell_type": "code",
   "execution_count": 11,
   "metadata": {},
   "outputs": [
    {
     "name": "stderr",
     "output_type": "stream",
     "text": [
      "\u001b[34m\u001b[1mwandb\u001b[0m: wandb version 0.10.29 is available!  To upgrade, please run:\n",
      "\u001b[34m\u001b[1mwandb\u001b[0m:  $ pip install wandb --upgrade\n"
     ]
    },
    {
     "data": {
      "text/html": [
       "\n",
       "                Tracking run with wandb version 0.10.28<br/>\n",
       "                Syncing run <strong style=\"color:#cdcd00\">wild-pyramid-2</strong> to <a href=\"https://wandb.ai\" target=\"_blank\">Weights & Biases</a> <a href=\"https://docs.wandb.com/integrations/jupyter.html\" target=\"_blank\">(Documentation)</a>.<br/>\n",
       "                Project page: <a href=\"https://wandb.ai/giacomovianello/demo_artifact_1\" target=\"_blank\">https://wandb.ai/giacomovianello/demo_artifact_1</a><br/>\n",
       "                Run page: <a href=\"https://wandb.ai/giacomovianello/demo_artifact_1/runs/39nsgnic\" target=\"_blank\">https://wandb.ai/giacomovianello/demo_artifact_1/runs/39nsgnic</a><br/>\n",
       "                Run data is saved locally in <code>/Users/instructor/PycharmProjects/nd0821-c2-build-model-workflow/lesson-1-machine-learning-pipelines/demo/wandb/run-20210504_110539-39nsgnic</code><br/><br/>\n",
       "            "
      ],
      "text/plain": [
       "<IPython.core.display.HTML object>"
      ]
     },
     "metadata": {},
     "output_type": "display_data"
    },
    {
     "data": {
      "text/plain": [
       "<wandb.sdk.wandb_artifacts.Artifact at 0x7fef3aeaf490>"
      ]
     },
     "execution_count": 11,
     "metadata": {},
     "output_type": "execute_result"
    }
   ],
   "source": [
    "with open(\"my_artifact.txt\", \"w+\") as fp:\n",
    "    fp.write(\"This is an example of an artifact changed\")\n",
    "\n",
    "run = wandb.init(project=\"demo_artifact_1\", group=\"experiment_1\")\n",
    "\n",
    "artifact = wandb.Artifact(\n",
    "    name=\"my_artifact.txt\", \n",
    "    type=\"data\", \n",
    "    description=\"This is an example of an artifact\",\n",
    "    metadata={\n",
    "        \"key_1\": \"value_1\"\n",
    "    }\n",
    ")\n",
    "artifact.add_file(\"my_artifact.txt\")\n",
    "run.log_artifact(artifact)\n"
   ]
  },
  {
   "cell_type": "code",
   "execution_count": 12,
   "metadata": {},
   "outputs": [
    {
     "data": {
      "text/html": [
       "<br/>Waiting for W&B process to finish, PID 3717<br/>Program ended successfully."
      ],
      "text/plain": [
       "<IPython.core.display.HTML object>"
      ]
     },
     "metadata": {},
     "output_type": "display_data"
    },
    {
     "data": {
      "application/vnd.jupyter.widget-view+json": {
       "model_id": "",
       "version_major": 2,
       "version_minor": 0
      },
      "text/plain": [
       "VBox(children=(Label(value=' 0.00MB of 0.00MB uploaded (0.00MB deduped)\\r'), FloatProgress(value=1.0, max=1.0)…"
      ]
     },
     "metadata": {},
     "output_type": "display_data"
    },
    {
     "data": {
      "text/html": [
       "Find user logs for this run at: <code>/Users/instructor/PycharmProjects/nd0821-c2-build-model-workflow/lesson-1-machine-learning-pipelines/demo/wandb/run-20210504_110539-39nsgnic/logs/debug.log</code>"
      ],
      "text/plain": [
       "<IPython.core.display.HTML object>"
      ]
     },
     "metadata": {},
     "output_type": "display_data"
    },
    {
     "data": {
      "text/html": [
       "Find internal logs for this run at: <code>/Users/instructor/PycharmProjects/nd0821-c2-build-model-workflow/lesson-1-machine-learning-pipelines/demo/wandb/run-20210504_110539-39nsgnic/logs/debug-internal.log</code>"
      ],
      "text/plain": [
       "<IPython.core.display.HTML object>"
      ]
     },
     "metadata": {},
     "output_type": "display_data"
    },
    {
     "data": {
      "text/html": [
       "Synced 5 W&B file(s), 0 media file(s), 1 artifact file(s) and 0 other file(s)"
      ],
      "text/plain": [
       "<IPython.core.display.HTML object>"
      ]
     },
     "metadata": {},
     "output_type": "display_data"
    },
    {
     "data": {
      "text/html": [
       "\n",
       "                    <br/>Synced <strong style=\"color:#cdcd00\">wild-pyramid-2</strong>: <a href=\"https://wandb.ai/giacomovianello/demo_artifact_1/runs/39nsgnic\" target=\"_blank\">https://wandb.ai/giacomovianello/demo_artifact_1/runs/39nsgnic</a><br/>\n",
       "                "
      ],
      "text/plain": [
       "<IPython.core.display.HTML object>"
      ]
     },
     "metadata": {},
     "output_type": "display_data"
    }
   ],
   "source": [
    "run.finish()"
   ]
  },
  {
   "cell_type": "markdown",
   "metadata": {},
   "source": [
    "# Re-upload the same artifact\n",
    "(the version will not change)"
   ]
  },
  {
   "cell_type": "code",
   "execution_count": 13,
   "metadata": {},
   "outputs": [
    {
     "name": "stderr",
     "output_type": "stream",
     "text": [
      "\u001b[34m\u001b[1mwandb\u001b[0m: wandb version 0.10.29 is available!  To upgrade, please run:\n",
      "\u001b[34m\u001b[1mwandb\u001b[0m:  $ pip install wandb --upgrade\n"
     ]
    },
    {
     "data": {
      "text/html": [
       "\n",
       "                Tracking run with wandb version 0.10.28<br/>\n",
       "                Syncing run <strong style=\"color:#cdcd00\">golden-dawn-3</strong> to <a href=\"https://wandb.ai\" target=\"_blank\">Weights & Biases</a> <a href=\"https://docs.wandb.com/integrations/jupyter.html\" target=\"_blank\">(Documentation)</a>.<br/>\n",
       "                Project page: <a href=\"https://wandb.ai/giacomovianello/demo_artifact_1\" target=\"_blank\">https://wandb.ai/giacomovianello/demo_artifact_1</a><br/>\n",
       "                Run page: <a href=\"https://wandb.ai/giacomovianello/demo_artifact_1/runs/2vinqwo1\" target=\"_blank\">https://wandb.ai/giacomovianello/demo_artifact_1/runs/2vinqwo1</a><br/>\n",
       "                Run data is saved locally in <code>/Users/instructor/PycharmProjects/nd0821-c2-build-model-workflow/lesson-1-machine-learning-pipelines/demo/wandb/run-20210504_110639-2vinqwo1</code><br/><br/>\n",
       "            "
      ],
      "text/plain": [
       "<IPython.core.display.HTML object>"
      ]
     },
     "metadata": {},
     "output_type": "display_data"
    },
    {
     "data": {
      "text/html": [
       "<br/>Waiting for W&B process to finish, PID 3732<br/>Program ended successfully."
      ],
      "text/plain": [
       "<IPython.core.display.HTML object>"
      ]
     },
     "metadata": {},
     "output_type": "display_data"
    },
    {
     "data": {
      "application/vnd.jupyter.widget-view+json": {
       "model_id": "",
       "version_major": 2,
       "version_minor": 0
      },
      "text/plain": [
       "VBox(children=(Label(value=' 0.00MB of 0.00MB uploaded (0.00MB deduped)\\r'), FloatProgress(value=1.0, max=1.0)…"
      ]
     },
     "metadata": {},
     "output_type": "display_data"
    },
    {
     "data": {
      "text/html": [
       "Find user logs for this run at: <code>/Users/instructor/PycharmProjects/nd0821-c2-build-model-workflow/lesson-1-machine-learning-pipelines/demo/wandb/run-20210504_110639-2vinqwo1/logs/debug.log</code>"
      ],
      "text/plain": [
       "<IPython.core.display.HTML object>"
      ]
     },
     "metadata": {},
     "output_type": "display_data"
    },
    {
     "data": {
      "text/html": [
       "Find internal logs for this run at: <code>/Users/instructor/PycharmProjects/nd0821-c2-build-model-workflow/lesson-1-machine-learning-pipelines/demo/wandb/run-20210504_110639-2vinqwo1/logs/debug-internal.log</code>"
      ],
      "text/plain": [
       "<IPython.core.display.HTML object>"
      ]
     },
     "metadata": {},
     "output_type": "display_data"
    },
    {
     "data": {
      "text/html": [
       "Synced 5 W&B file(s), 0 media file(s), 0 artifact file(s) and 0 other file(s)"
      ],
      "text/plain": [
       "<IPython.core.display.HTML object>"
      ]
     },
     "metadata": {},
     "output_type": "display_data"
    },
    {
     "data": {
      "text/html": [
       "\n",
       "                    <br/>Synced <strong style=\"color:#cdcd00\">golden-dawn-3</strong>: <a href=\"https://wandb.ai/giacomovianello/demo_artifact_1/runs/2vinqwo1\" target=\"_blank\">https://wandb.ai/giacomovianello/demo_artifact_1/runs/2vinqwo1</a><br/>\n",
       "                "
      ],
      "text/plain": [
       "<IPython.core.display.HTML object>"
      ]
     },
     "metadata": {},
     "output_type": "display_data"
    }
   ],
   "source": [
    "with open(\"my_artifact.txt\", \"w+\") as fp:\n",
    "    fp.write(\"This is an example of an artifact changed\")\n",
    "\n",
    "run = wandb.init(project=\"demo_artifact_1\", group=\"experiment_1\")\n",
    "\n",
    "artifact = wandb.Artifact(\n",
    "    name=\"my_artifact.txt\", \n",
    "    type=\"data\", \n",
    "    description=\"This is an example of an artifact\",\n",
    "    metadata={\n",
    "        \"key_1\": \"value_1\"\n",
    "    }\n",
    ")\n",
    "artifact.add_file(\"my_artifact.txt\")\n",
    "run.log_artifact(artifact)\n",
    "run.finish()"
   ]
  },
  {
   "cell_type": "markdown",
   "metadata": {},
   "source": [
    "# Using runs with context managers\n",
    "(show that the version does not change even across multiple runs if the artifact does not change)"
   ]
  },
  {
   "cell_type": "code",
   "execution_count": 14,
   "metadata": {},
   "outputs": [
    {
     "name": "stderr",
     "output_type": "stream",
     "text": [
      "\u001b[34m\u001b[1mwandb\u001b[0m: wandb version 0.10.29 is available!  To upgrade, please run:\n",
      "\u001b[34m\u001b[1mwandb\u001b[0m:  $ pip install wandb --upgrade\n"
     ]
    },
    {
     "data": {
      "text/html": [
       "\n",
       "                Tracking run with wandb version 0.10.28<br/>\n",
       "                Syncing run <strong style=\"color:#cdcd00\">atomic-leaf-1</strong> to <a href=\"https://wandb.ai\" target=\"_blank\">Weights & Biases</a> <a href=\"https://docs.wandb.com/integrations/jupyter.html\" target=\"_blank\">(Documentation)</a>.<br/>\n",
       "                Project page: <a href=\"https://wandb.ai/giacomovianello/multiple_runs\" target=\"_blank\">https://wandb.ai/giacomovianello/multiple_runs</a><br/>\n",
       "                Run page: <a href=\"https://wandb.ai/giacomovianello/multiple_runs/runs/1vwwtla1\" target=\"_blank\">https://wandb.ai/giacomovianello/multiple_runs/runs/1vwwtla1</a><br/>\n",
       "                Run data is saved locally in <code>/Users/instructor/PycharmProjects/nd0821-c2-build-model-workflow/lesson-1-machine-learning-pipelines/demo/wandb/run-20210504_110843-1vwwtla1</code><br/><br/>\n",
       "            "
      ],
      "text/plain": [
       "<IPython.core.display.HTML object>"
      ]
     },
     "metadata": {},
     "output_type": "display_data"
    },
    {
     "data": {
      "text/html": [
       "<br/>Waiting for W&B process to finish, PID 3762<br/>Program ended successfully."
      ],
      "text/plain": [
       "<IPython.core.display.HTML object>"
      ]
     },
     "metadata": {},
     "output_type": "display_data"
    },
    {
     "data": {
      "application/vnd.jupyter.widget-view+json": {
       "model_id": "",
       "version_major": 2,
       "version_minor": 0
      },
      "text/plain": [
       "VBox(children=(Label(value=' 0.00MB of 0.00MB uploaded (0.00MB deduped)\\r'), FloatProgress(value=1.0, max=1.0)…"
      ]
     },
     "metadata": {},
     "output_type": "display_data"
    },
    {
     "data": {
      "text/html": [
       "Find user logs for this run at: <code>/Users/instructor/PycharmProjects/nd0821-c2-build-model-workflow/lesson-1-machine-learning-pipelines/demo/wandb/run-20210504_110843-1vwwtla1/logs/debug.log</code>"
      ],
      "text/plain": [
       "<IPython.core.display.HTML object>"
      ]
     },
     "metadata": {},
     "output_type": "display_data"
    },
    {
     "data": {
      "text/html": [
       "Find internal logs for this run at: <code>/Users/instructor/PycharmProjects/nd0821-c2-build-model-workflow/lesson-1-machine-learning-pipelines/demo/wandb/run-20210504_110843-1vwwtla1/logs/debug-internal.log</code>"
      ],
      "text/plain": [
       "<IPython.core.display.HTML object>"
      ]
     },
     "metadata": {},
     "output_type": "display_data"
    },
    {
     "data": {
      "text/html": [
       "Synced 5 W&B file(s), 0 media file(s), 0 artifact file(s) and 0 other file(s)"
      ],
      "text/plain": [
       "<IPython.core.display.HTML object>"
      ]
     },
     "metadata": {},
     "output_type": "display_data"
    },
    {
     "data": {
      "text/html": [
       "\n",
       "                    <br/>Synced <strong style=\"color:#cdcd00\">atomic-leaf-1</strong>: <a href=\"https://wandb.ai/giacomovianello/multiple_runs/runs/1vwwtla1\" target=\"_blank\">https://wandb.ai/giacomovianello/multiple_runs/runs/1vwwtla1</a><br/>\n",
       "                "
      ],
      "text/plain": [
       "<IPython.core.display.HTML object>"
      ]
     },
     "metadata": {},
     "output_type": "display_data"
    }
   ],
   "source": [
    "with wandb.init(project=\"multiple_runs\") as run:\n",
    "    \n",
    "    artifact = wandb.Artifact(\n",
    "    name=\"my_artifact.txt\", \n",
    "    type=\"data\", \n",
    "    description=\"This is an example of an artifact\",\n",
    "    metadata={\n",
    "        \"key_1\": \"value_1\"\n",
    "    }\n",
    "    )\n",
    "    artifact.add_file(\"my_artifact.txt\")\n",
    "\n",
    "with wandb.init(project=\"multiple_runs\") as run:\n",
    "    \n",
    "    artifact = wandb.Artifact(\n",
    "    name=\"my_artifact.txt\", \n",
    "    type=\"data\", \n",
    "    description=\"This is an example of an artifact\",\n",
    "    metadata={\n",
    "        \"key_1\": \"value_1\"\n",
    "    }\n",
    "    )\n",
    "    artifact.add_file(\"my_artifact.txt\")"
   ]
  },
  {
   "cell_type": "code",
   "execution_count": 2,
   "metadata": {},
   "outputs": [
    {
     "name": "stdout",
     "output_type": "stream",
     "text": [
      "\u001b[0;31mSignature:\u001b[0m\n",
      "\u001b[0mwandb\u001b[0m\u001b[0;34m.\u001b[0m\u001b[0minit\u001b[0m\u001b[0;34m(\u001b[0m\u001b[0;34m\u001b[0m\n",
      "\u001b[0;34m\u001b[0m    \u001b[0mjob_type\u001b[0m\u001b[0;34m:\u001b[0m \u001b[0mUnion\u001b[0m\u001b[0;34m[\u001b[0m\u001b[0mstr\u001b[0m\u001b[0;34m,\u001b[0m \u001b[0mNoneType\u001b[0m\u001b[0;34m]\u001b[0m \u001b[0;34m=\u001b[0m \u001b[0;32mNone\u001b[0m\u001b[0;34m,\u001b[0m\u001b[0;34m\u001b[0m\n",
      "\u001b[0;34m\u001b[0m    \u001b[0mdir\u001b[0m\u001b[0;34m:\u001b[0m \u001b[0mUnion\u001b[0m\u001b[0;34m[\u001b[0m\u001b[0mstr\u001b[0m\u001b[0;34m,\u001b[0m \u001b[0mpathlib\u001b[0m\u001b[0;34m.\u001b[0m\u001b[0mPath\u001b[0m\u001b[0;34m,\u001b[0m \u001b[0mNoneType\u001b[0m\u001b[0;34m]\u001b[0m \u001b[0;34m=\u001b[0m \u001b[0;32mNone\u001b[0m\u001b[0;34m,\u001b[0m\u001b[0;34m\u001b[0m\n",
      "\u001b[0;34m\u001b[0m    \u001b[0mconfig\u001b[0m\u001b[0;34m:\u001b[0m \u001b[0mUnion\u001b[0m\u001b[0;34m[\u001b[0m\u001b[0mDict\u001b[0m\u001b[0;34m,\u001b[0m \u001b[0mstr\u001b[0m\u001b[0;34m,\u001b[0m \u001b[0mNoneType\u001b[0m\u001b[0;34m]\u001b[0m \u001b[0;34m=\u001b[0m \u001b[0;32mNone\u001b[0m\u001b[0;34m,\u001b[0m\u001b[0;34m\u001b[0m\n",
      "\u001b[0;34m\u001b[0m    \u001b[0mproject\u001b[0m\u001b[0;34m:\u001b[0m \u001b[0mUnion\u001b[0m\u001b[0;34m[\u001b[0m\u001b[0mstr\u001b[0m\u001b[0;34m,\u001b[0m \u001b[0mNoneType\u001b[0m\u001b[0;34m]\u001b[0m \u001b[0;34m=\u001b[0m \u001b[0;32mNone\u001b[0m\u001b[0;34m,\u001b[0m\u001b[0;34m\u001b[0m\n",
      "\u001b[0;34m\u001b[0m    \u001b[0mentity\u001b[0m\u001b[0;34m:\u001b[0m \u001b[0mUnion\u001b[0m\u001b[0;34m[\u001b[0m\u001b[0mstr\u001b[0m\u001b[0;34m,\u001b[0m \u001b[0mNoneType\u001b[0m\u001b[0;34m]\u001b[0m \u001b[0;34m=\u001b[0m \u001b[0;32mNone\u001b[0m\u001b[0;34m,\u001b[0m\u001b[0;34m\u001b[0m\n",
      "\u001b[0;34m\u001b[0m    \u001b[0mreinit\u001b[0m\u001b[0;34m:\u001b[0m \u001b[0mUnion\u001b[0m\u001b[0;34m[\u001b[0m\u001b[0mbool\u001b[0m\u001b[0;34m,\u001b[0m \u001b[0mNoneType\u001b[0m\u001b[0;34m]\u001b[0m \u001b[0;34m=\u001b[0m \u001b[0;32mNone\u001b[0m\u001b[0;34m,\u001b[0m\u001b[0;34m\u001b[0m\n",
      "\u001b[0;34m\u001b[0m    \u001b[0mtags\u001b[0m\u001b[0;34m:\u001b[0m \u001b[0mUnion\u001b[0m\u001b[0;34m[\u001b[0m\u001b[0mSequence\u001b[0m\u001b[0;34m,\u001b[0m \u001b[0mNoneType\u001b[0m\u001b[0;34m]\u001b[0m \u001b[0;34m=\u001b[0m \u001b[0;32mNone\u001b[0m\u001b[0;34m,\u001b[0m\u001b[0;34m\u001b[0m\n",
      "\u001b[0;34m\u001b[0m    \u001b[0mgroup\u001b[0m\u001b[0;34m:\u001b[0m \u001b[0mUnion\u001b[0m\u001b[0;34m[\u001b[0m\u001b[0mstr\u001b[0m\u001b[0;34m,\u001b[0m \u001b[0mNoneType\u001b[0m\u001b[0;34m]\u001b[0m \u001b[0;34m=\u001b[0m \u001b[0;32mNone\u001b[0m\u001b[0;34m,\u001b[0m\u001b[0;34m\u001b[0m\n",
      "\u001b[0;34m\u001b[0m    \u001b[0mname\u001b[0m\u001b[0;34m:\u001b[0m \u001b[0mUnion\u001b[0m\u001b[0;34m[\u001b[0m\u001b[0mstr\u001b[0m\u001b[0;34m,\u001b[0m \u001b[0mNoneType\u001b[0m\u001b[0;34m]\u001b[0m \u001b[0;34m=\u001b[0m \u001b[0;32mNone\u001b[0m\u001b[0;34m,\u001b[0m\u001b[0;34m\u001b[0m\n",
      "\u001b[0;34m\u001b[0m    \u001b[0mnotes\u001b[0m\u001b[0;34m:\u001b[0m \u001b[0mUnion\u001b[0m\u001b[0;34m[\u001b[0m\u001b[0mstr\u001b[0m\u001b[0;34m,\u001b[0m \u001b[0mNoneType\u001b[0m\u001b[0;34m]\u001b[0m \u001b[0;34m=\u001b[0m \u001b[0;32mNone\u001b[0m\u001b[0;34m,\u001b[0m\u001b[0;34m\u001b[0m\n",
      "\u001b[0;34m\u001b[0m    \u001b[0mmagic\u001b[0m\u001b[0;34m:\u001b[0m \u001b[0mUnion\u001b[0m\u001b[0;34m[\u001b[0m\u001b[0mdict\u001b[0m\u001b[0;34m,\u001b[0m \u001b[0mstr\u001b[0m\u001b[0;34m,\u001b[0m \u001b[0mbool\u001b[0m\u001b[0;34m,\u001b[0m \u001b[0mNoneType\u001b[0m\u001b[0;34m]\u001b[0m \u001b[0;34m=\u001b[0m \u001b[0;32mNone\u001b[0m\u001b[0;34m,\u001b[0m\u001b[0;34m\u001b[0m\n",
      "\u001b[0;34m\u001b[0m    \u001b[0mconfig_exclude_keys\u001b[0m\u001b[0;34m=\u001b[0m\u001b[0;32mNone\u001b[0m\u001b[0;34m,\u001b[0m\u001b[0;34m\u001b[0m\n",
      "\u001b[0;34m\u001b[0m    \u001b[0mconfig_include_keys\u001b[0m\u001b[0;34m=\u001b[0m\u001b[0;32mNone\u001b[0m\u001b[0;34m,\u001b[0m\u001b[0;34m\u001b[0m\n",
      "\u001b[0;34m\u001b[0m    \u001b[0manonymous\u001b[0m\u001b[0;34m:\u001b[0m \u001b[0mUnion\u001b[0m\u001b[0;34m[\u001b[0m\u001b[0mstr\u001b[0m\u001b[0;34m,\u001b[0m \u001b[0mNoneType\u001b[0m\u001b[0;34m]\u001b[0m \u001b[0;34m=\u001b[0m \u001b[0;32mNone\u001b[0m\u001b[0;34m,\u001b[0m\u001b[0;34m\u001b[0m\n",
      "\u001b[0;34m\u001b[0m    \u001b[0mmode\u001b[0m\u001b[0;34m:\u001b[0m \u001b[0mUnion\u001b[0m\u001b[0;34m[\u001b[0m\u001b[0mstr\u001b[0m\u001b[0;34m,\u001b[0m \u001b[0mNoneType\u001b[0m\u001b[0;34m]\u001b[0m \u001b[0;34m=\u001b[0m \u001b[0;32mNone\u001b[0m\u001b[0;34m,\u001b[0m\u001b[0;34m\u001b[0m\n",
      "\u001b[0;34m\u001b[0m    \u001b[0mallow_val_change\u001b[0m\u001b[0;34m:\u001b[0m \u001b[0mUnion\u001b[0m\u001b[0;34m[\u001b[0m\u001b[0mbool\u001b[0m\u001b[0;34m,\u001b[0m \u001b[0mNoneType\u001b[0m\u001b[0;34m]\u001b[0m \u001b[0;34m=\u001b[0m \u001b[0;32mNone\u001b[0m\u001b[0;34m,\u001b[0m\u001b[0;34m\u001b[0m\n",
      "\u001b[0;34m\u001b[0m    \u001b[0mresume\u001b[0m\u001b[0;34m:\u001b[0m \u001b[0mUnion\u001b[0m\u001b[0;34m[\u001b[0m\u001b[0mbool\u001b[0m\u001b[0;34m,\u001b[0m \u001b[0mstr\u001b[0m\u001b[0;34m,\u001b[0m \u001b[0mNoneType\u001b[0m\u001b[0;34m]\u001b[0m \u001b[0;34m=\u001b[0m \u001b[0;32mNone\u001b[0m\u001b[0;34m,\u001b[0m\u001b[0;34m\u001b[0m\n",
      "\u001b[0;34m\u001b[0m    \u001b[0mforce\u001b[0m\u001b[0;34m:\u001b[0m \u001b[0mUnion\u001b[0m\u001b[0;34m[\u001b[0m\u001b[0mbool\u001b[0m\u001b[0;34m,\u001b[0m \u001b[0mNoneType\u001b[0m\u001b[0;34m]\u001b[0m \u001b[0;34m=\u001b[0m \u001b[0;32mNone\u001b[0m\u001b[0;34m,\u001b[0m\u001b[0;34m\u001b[0m\n",
      "\u001b[0;34m\u001b[0m    \u001b[0mtensorboard\u001b[0m\u001b[0;34m=\u001b[0m\u001b[0;32mNone\u001b[0m\u001b[0;34m,\u001b[0m\u001b[0;34m\u001b[0m\n",
      "\u001b[0;34m\u001b[0m    \u001b[0msync_tensorboard\u001b[0m\u001b[0;34m=\u001b[0m\u001b[0;32mNone\u001b[0m\u001b[0;34m,\u001b[0m\u001b[0;34m\u001b[0m\n",
      "\u001b[0;34m\u001b[0m    \u001b[0mmonitor_gym\u001b[0m\u001b[0;34m=\u001b[0m\u001b[0;32mNone\u001b[0m\u001b[0;34m,\u001b[0m\u001b[0;34m\u001b[0m\n",
      "\u001b[0;34m\u001b[0m    \u001b[0msave_code\u001b[0m\u001b[0;34m=\u001b[0m\u001b[0;32mNone\u001b[0m\u001b[0;34m,\u001b[0m\u001b[0;34m\u001b[0m\n",
      "\u001b[0;34m\u001b[0m    \u001b[0mid\u001b[0m\u001b[0;34m=\u001b[0m\u001b[0;32mNone\u001b[0m\u001b[0;34m,\u001b[0m\u001b[0;34m\u001b[0m\n",
      "\u001b[0;34m\u001b[0m    \u001b[0msettings\u001b[0m\u001b[0;34m:\u001b[0m \u001b[0mUnion\u001b[0m\u001b[0;34m[\u001b[0m\u001b[0mwandb\u001b[0m\u001b[0;34m.\u001b[0m\u001b[0msdk\u001b[0m\u001b[0;34m.\u001b[0m\u001b[0mwandb_settings\u001b[0m\u001b[0;34m.\u001b[0m\u001b[0mSettings\u001b[0m\u001b[0;34m,\u001b[0m \u001b[0mDict\u001b[0m\u001b[0;34m[\u001b[0m\u001b[0mstr\u001b[0m\u001b[0;34m,\u001b[0m \u001b[0mAny\u001b[0m\u001b[0;34m]\u001b[0m\u001b[0;34m,\u001b[0m \u001b[0mNoneType\u001b[0m\u001b[0;34m]\u001b[0m \u001b[0;34m=\u001b[0m \u001b[0;32mNone\u001b[0m\u001b[0;34m,\u001b[0m\u001b[0;34m\u001b[0m\n",
      "\u001b[0;34m\u001b[0m\u001b[0;34m)\u001b[0m \u001b[0;34m->\u001b[0m \u001b[0mUnion\u001b[0m\u001b[0;34m[\u001b[0m\u001b[0mwandb\u001b[0m\u001b[0;34m.\u001b[0m\u001b[0msdk\u001b[0m\u001b[0;34m.\u001b[0m\u001b[0mwandb_run\u001b[0m\u001b[0;34m.\u001b[0m\u001b[0mRun\u001b[0m\u001b[0;34m,\u001b[0m \u001b[0mwandb\u001b[0m\u001b[0;34m.\u001b[0m\u001b[0msdk\u001b[0m\u001b[0;34m.\u001b[0m\u001b[0mlib\u001b[0m\u001b[0;34m.\u001b[0m\u001b[0mdisabled\u001b[0m\u001b[0;34m.\u001b[0m\u001b[0mRunDisabled\u001b[0m\u001b[0;34m,\u001b[0m \u001b[0mNoneType\u001b[0m\u001b[0;34m]\u001b[0m\u001b[0;34m\u001b[0m\u001b[0;34m\u001b[0m\u001b[0m\n",
      "\u001b[0;31mDocstring:\u001b[0m\n",
      "Starts a new run to track and log to W&B.\n",
      "\n",
      "In an ML training pipeline, you could add `wandb.init()`\n",
      "to the beginning of your training script as well as your evaluation\n",
      "script, and each piece would be tracked as a run in W&B.\n",
      "\n",
      "`wandb.init()` spawns a new background process to log data to a run, and it\n",
      "also syncs data to wandb.ai by default, so you can see live visualizations.\n",
      "\n",
      "Call `wandb.init()` to start a run before logging data with `wandb.log()`:\n",
      "<!--yeadoc-test:init-method-log-->\n",
      "```python\n",
      "import wandb\n",
      "\n",
      "wandb.init()\n",
      "# ... calculate metrics, generate media\n",
      "wandb.log({\"accuracy\": 0.9})\n",
      "```\n",
      "\n",
      "`wandb.init()` returns a run object, and you can also access the run object\n",
      "via `wandb.run`:\n",
      "<!--yeadoc-test:init-and-assert-global-->\n",
      "```python\n",
      "import wandb\n",
      "\n",
      "run = wandb.init()\n",
      "\n",
      "assert run is wandb.run\n",
      "```\n",
      "\n",
      "At the end of your script, we will automatically call `wandb.finish` to\n",
      "finalize and cleanup the run. However, if you call `wandb.init` from a\n",
      "child process, you must explicitly call `wandb.finish` at the end of the\n",
      "child process.\n",
      "\n",
      "For more on using `wandb.init()`, including detailed examples, check out our\n",
      "[guide and FAQs](https://docs.wandb.ai/guides/track/launch).\n",
      "\n",
      "Arguments:\n",
      "    project: (str, optional) The name of the project where you're sending\n",
      "        the new run. If the project is not specified, the run is put in an\n",
      "        \"Uncategorized\" project.\n",
      "    entity: (str, optional) An entity is a username or team name where\n",
      "        you're sending runs. This entity must exist before you can send runs\n",
      "        there, so make sure to create your account or team in the UI before\n",
      "        starting to log runs.\n",
      "        If you don't specify an entity, the run will be sent to your default\n",
      "        entity, which is usually your username. Change your default entity\n",
      "        in [your settings](https://wandb.ai/settings) under \"default location\n",
      "        to create new projects\".\n",
      "    config: (dict, argparse, absl.flags, str, optional)\n",
      "        This sets `wandb.config`, a dictionary-like object for saving inputs\n",
      "        to your job, like hyperparameters for a model or settings for a data\n",
      "        preprocessing job. The config will show up in a table in the UI that\n",
      "        you can use to group, filter, and sort runs. Keys should not contain\n",
      "        `.` in their names, and values should be under 10 MB.\n",
      "        If dict, argparse or absl.flags: will load the key value pairs into\n",
      "            the `wandb.config` object.\n",
      "        If str: will look for a yaml file by that name, and load config from\n",
      "            that file into the `wandb.config` object.\n",
      "    save_code: (bool, optional) Turn this on to save the main script or\n",
      "        notebook to W&B. This is valuable for improving experiment\n",
      "        reproducibility and to diff code across experiments in the UI. By\n",
      "        default this is off, but you can flip the default behavior to on\n",
      "        in [your settings page](https://wandb.ai/settings).\n",
      "    group: (str, optional) Specify a group to organize individual runs into\n",
      "        a larger experiment. For example, you might be doing cross\n",
      "        validation, or you might have multiple jobs that train and evaluate\n",
      "        a model against different test sets. Group gives you a way to\n",
      "        organize runs together into a larger whole, and you can toggle this\n",
      "        on and off in the UI. For more details, see our\n",
      "        [guide to grouping runs](https://docs.wandb.com/library/grouping).\n",
      "    job_type: (str, optional) Specify the type of run, which is useful when\n",
      "        you're grouping runs together into larger experiments using group.\n",
      "        For example, you might have multiple jobs in a group, with job types\n",
      "        like train and eval. Setting this makes it easy to filter and group\n",
      "        similar runs together in the UI so you can compare apples to apples.\n",
      "    tags: (list, optional) A list of strings, which will populate the list\n",
      "        of tags on this run in the UI. Tags are useful for organizing runs\n",
      "        together, or applying temporary labels like \"baseline\" or\n",
      "        \"production\". It's easy to add and remove tags in the UI, or filter\n",
      "        down to just runs with a specific tag.\n",
      "    name: (str, optional) A short display name for this run, which is how\n",
      "        you'll identify this run in the UI. By default, we generate a random\n",
      "        two-word name that lets you easily cross-reference runs from the\n",
      "        table to charts. Keeping these run names short makes the chart\n",
      "        legends and tables easier to read. If you're looking for a place to\n",
      "        save your hyperparameters, we recommend saving those in config.\n",
      "    notes: (str, optional) A longer description of the run, like a `-m` commit\n",
      "        message in git. This helps you remember what you were doing when you\n",
      "        ran this run.\n",
      "    dir: (str or pathlib.Path, optional) An absolute path to a directory where\n",
      "        metadata will be stored. When you call `download()` on an artifact,\n",
      "        this is the directory where downloaded files will be saved. By default,\n",
      "        this is the `./wandb` directory.\n",
      "    resume: (bool, str, optional) Sets the resuming behavior. Options:\n",
      "        `\"allow\"`, `\"must\"`, `\"never\"`, `\"auto\"` or `None`. Defaults to `None`.\n",
      "        Cases:\n",
      "        - `None` (default): If the new run has the same ID as a previous run,\n",
      "            this run overwrites that data.\n",
      "        - `\"auto\"` (or `True`): if the previous run on this machine crashed,\n",
      "            automatically resume it. Otherwise, start a new run.\n",
      "        - `\"allow\"`: if id is set with `init(id=\"UNIQUE_ID\")` or\n",
      "            `WANDB_RUN_ID=\"UNIQUE_ID\"` and it is identical to a previous run,\n",
      "            wandb will automatically resume the run with that id. Otherwise,\n",
      "            wandb will start a new run.\n",
      "        - `\"never\"`: if id is set with `init(id=\"UNIQUE_ID\")` or\n",
      "            `WANDB_RUN_ID=\"UNIQUE_ID\"` and it is identical to a previous run,\n",
      "            wandb will crash.\n",
      "        - `\"must\"`: if id is set with `init(id=\"UNIQUE_ID\")` or\n",
      "            `WANDB_RUN_ID=\"UNIQUE_ID\"` and it is identical to a previous run,\n",
      "            wandb will automatically resume the run with the id. Otherwise,\n",
      "            wandb will crash.\n",
      "        See [our guide to resuming runs](https://docs.wandb.com/library/advanced/resuming)\n",
      "        for more.\n",
      "    reinit: (bool, optional) Allow multiple `wandb.init()` calls in the same\n",
      "        process. (default: `False`)\n",
      "    magic: (bool, dict, or str, optional) The bool controls whether we try to\n",
      "        auto-instrument your script, capturing basic details of your run\n",
      "        without you having to add more wandb code. (default: `False`)\n",
      "        You can also pass a dict, json string, or yaml filename.\n",
      "    config_exclude_keys: (list, optional) string keys to exclude from\n",
      "        `wandb.config`.\n",
      "    config_include_keys: (list, optional) string keys to include in\n",
      "        `wandb.config`.\n",
      "    anonymous: (str, optional) Controls anonymous data logging. Options:\n",
      "        - `\"never\"` (default): requires you to link your W&B account before\n",
      "            tracking the run, so you don't accidentally create an anonymous\n",
      "            run.\n",
      "        - `\"allow\"`: lets a logged-in user track runs with their account, but\n",
      "            lets someone who is running the script without a W&B account see\n",
      "            the charts in the UI.\n",
      "        - `\"must\"`: sends the run to an anonymous account instead of to a\n",
      "            signed-up user account.\n",
      "    mode: (str, optional) Can be `\"online\"`, `\"offline\"` or `\"disabled\"`. Defaults to\n",
      "        online.\n",
      "    allow_val_change: (bool, optional) Whether to allow config values to\n",
      "        change after setting the keys once. By default, we throw an exception\n",
      "        if a config value is overwritten. If you want to track something\n",
      "        like a varying learning rate at multiple times during training, use\n",
      "        `wandb.log()` instead. (default: `False` in scripts, `True` in Jupyter)\n",
      "    force: (bool, optional) If `True`, this crashes the script if a user isn't\n",
      "        logged in to W&B. If `False`, this will let the script run in offline\n",
      "        mode if a user isn't logged in to W&B. (default: `False`)\n",
      "    sync_tensorboard: (bool, optional) Synchronize wandb logs from tensorboard or\n",
      "        tensorboardX and save the relevant events file. (default: `False`)\n",
      "    monitor_gym: (bool, optional) Automatically log videos of environment when\n",
      "        using OpenAI Gym. (default: `False`)\n",
      "        See [our guide to this integration](https://docs.wandb.com/library/integrations/openai-gym).\n",
      "    id: (str, optional) A unique ID for this run, used for resuming. It must\n",
      "        be unique in the project, and if you delete a run you can't reuse\n",
      "        the ID. Use the `name` field for a short descriptive name, or `config`\n",
      "        for saving hyperparameters to compare across runs. The ID cannot\n",
      "        contain the following special characters: `/\\#?%:`.\n",
      "        See [our guide to resuming runs](https://docs.wandb.com/library/resuming).\n",
      "\n",
      "Examples:\n",
      "### Set where the run is logged\n",
      "\n",
      "You can change where the run is logged, just like changing\n",
      "the organization, repository, and branch in git:\n",
      "```python\n",
      "import wandb\n",
      "\n",
      "user = \"geoff\"\n",
      "project = \"capsules\"\n",
      "display_name = \"experiment-2021-10-31\"\n",
      "\n",
      "wandb.init(entity=user, project=project, name=display_name)\n",
      "```\n",
      "\n",
      "### Add metadata about the run to the config\n",
      "\n",
      "Pass a dictionary-style object as the `config` keyword argument to add\n",
      "metadata, like hyperparameters, to your run.\n",
      "<!--yeadoc-test:init-set-config-->\n",
      "```python\n",
      "import wandb\n",
      "\n",
      "config = {\"lr\": 3e-4, \"batch_size\": 32}\n",
      "config.update({\"architecture\": \"resnet\", \"depth\": 34})\n",
      "wandb.init(config=config)\n",
      "```\n",
      "\n",
      "Raises:\n",
      "    Exception: if problem.\n",
      "\n",
      "Returns:\n",
      "    A `Run` object.\n",
      "\u001b[0;31mFile:\u001b[0m      /workspace/.pyenv_mirror/user/current/lib/python3.8/site-packages/wandb/sdk/wandb_init.py\n",
      "\u001b[0;31mType:\u001b[0m      function"
     ]
    }
   ],
   "source": [
    "import wandb\n",
    "\n",
    "wandb.init?"
   ]
  },
  {
   "cell_type": "code",
   "execution_count": null,
   "id": "6d3c52c3",
   "metadata": {},
   "outputs": [],
   "source": []
  }
 ],
 "metadata": {
  "kernelspec": {
   "display_name": "Python 3",
   "language": "python",
   "name": "python3"
  },
  "language_info": {
   "codemirror_mode": {
    "name": "ipython",
    "version": 3
   },
   "file_extension": ".py",
   "mimetype": "text/x-python",
   "name": "python",
   "nbconvert_exporter": "python",
   "pygments_lexer": "ipython3",
   "version": "3.8.16"
  },
  "vscode": {
   "interpreter": {
    "hash": "9ac03a0a6051494cc606d484d27d20fce22fb7b4d169f583271e11d5ba46a56e"
   }
  }
 },
 "nbformat": 4,
 "nbformat_minor": 5
}
